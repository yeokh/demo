{
  "nbformat": 4,
  "nbformat_minor": 0,
  "metadata": {
    "colab": {
      "name": "Hello World ML",
      "provenance": [],
      "collapsed_sections": [],
      "authorship_tag": "ABX9TyNgm2qyJAziUxossDCtNzPk",
      "include_colab_link": true
    },
    "kernelspec": {
      "name": "python3",
      "display_name": "Python 3"
    }
  },
  "cells": [
    {
      "cell_type": "markdown",
      "metadata": {
        "id": "view-in-github",
        "colab_type": "text"
      },
      "source": [
        "<a href=\"https://colab.research.google.com/github/yeokh/demo/blob/master/Hello_World_ML.ipynb\" target=\"_parent\"><img src=\"https://colab.research.google.com/assets/colab-badge.svg\" alt=\"Open In Colab\"/></a>"
      ]
    },
    {
      "cell_type": "markdown",
      "metadata": {
        "id": "M_mFSa1tyqX-",
        "colab_type": "text"
      },
      "source": [
        "Build a model to predict y from x based on a set of x and y data.\n",
        "\n",
        "https://codelabs.developers.google.com/codelabs/tensorflow-lab1-helloworld/#3"
      ]
    },
    {
      "cell_type": "code",
      "metadata": {
        "id": "ePMTTWelx_8h",
        "colab_type": "code",
        "colab": {}
      },
      "source": [
        "# Use tensorflow as the ML framework\n",
        "#\n",
        "import tensorflow as tf\n",
        "import numpy as np\n",
        "from tensorflow import keras"
      ],
      "execution_count": 0,
      "outputs": []
    },
    {
      "cell_type": "code",
      "metadata": {
        "id": "zXXQB3N4yONV",
        "colab_type": "code",
        "colab": {
          "base_uri": "https://localhost:8080/",
          "height": 185
        },
        "outputId": "328402a9-b26c-454a-a709-5d1d6ab2455d"
      },
      "source": [
        "# Create the simplest possible neural network model of 1 layer (or 1 neuron), with the input shape of 1 byte (or 1 value).  \n",
        "# And input image of 150x150 pixels with 3 bytes color will have the following: input_shape=(150, 150, 3).\n",
        "#\n",
        "model = tf.keras.Sequential([keras.layers.Dense(units=1, input_shape=[1])])\n",
        "model.summary()"
      ],
      "execution_count": 16,
      "outputs": [
        {
          "output_type": "stream",
          "text": [
            "Model: \"sequential_1\"\n",
            "_________________________________________________________________\n",
            "Layer (type)                 Output Shape              Param #   \n",
            "=================================================================\n",
            "dense_1 (Dense)              (None, 1)                 2         \n",
            "=================================================================\n",
            "Total params: 2\n",
            "Trainable params: 2\n",
            "Non-trainable params: 0\n",
            "_________________________________________________________________\n"
          ],
          "name": "stdout"
        }
      ]
    },
    {
      "cell_type": "code",
      "metadata": {
        "id": "V1x-mRT5zOId",
        "colab_type": "code",
        "colab": {}
      },
      "source": [
        "# Compile the model with the appropriate optimizer. \n",
        "#\n",
        "model.compile(optimizer='sgd', loss='mean_squared_error')"
      ],
      "execution_count": 0,
      "outputs": []
    },
    {
      "cell_type": "code",
      "metadata": {
        "id": "4khOy8mozUHA",
        "colab_type": "code",
        "colab": {}
      },
      "source": [
        "# Define the data set of input data and corresponding expected answers/results. \n",
        "#\n",
        "xs = np.array([-1.0, 0.0, 1.0, 2.0, 3.0, 4.0], dtype=float)\n",
        "ys = np.array([-2.0, 1.0, 4.0, 7.0, 10.0, 13.0], dtype=float)"
      ],
      "execution_count": 0,
      "outputs": []
    },
    {
      "cell_type": "markdown",
      "metadata": {
        "id": "j_Bdodbkz-AC",
        "colab_type": "text"
      },
      "source": [
        "Train the model with the data provided.  x is the input and y is the expected answer.  The actual formula is Y=3X+1."
      ]
    },
    {
      "cell_type": "code",
      "metadata": {
        "id": "VF_MCfs4zZJz",
        "colab_type": "code",
        "colab": {}
      },
      "source": [
        "# Train the model with the data provided.  xs is the input, ys is the expected results.  Note: Actual formula is y = 3x + 1.\n",
        "# Training results can be saved for analysis and fine tuning of model.\n",
        "#\n",
        "history = model.fit(xs, ys, epochs=250, verbose=1)"
      ],
      "execution_count": 0,
      "outputs": []
    },
    {
      "cell_type": "code",
      "metadata": {
        "id": "hbynyTqkzs2A",
        "colab_type": "code",
        "colab": {
          "base_uri": "https://localhost:8080/",
          "height": 34
        },
        "outputId": "0e4ff023-f7fe-4893-c872-2d7f3e5da5b4"
      },
      "source": [
        "# Test the model and then same the model.\n",
        "#\n",
        "print(model.predict([5.0]))\n",
        "model.save(\"rps.h5\")"
      ],
      "execution_count": 25,
      "outputs": [
        {
          "output_type": "stream",
          "text": [
            "[[15.994279]]\n"
          ],
          "name": "stdout"
        }
      ]
    }
  ]
}