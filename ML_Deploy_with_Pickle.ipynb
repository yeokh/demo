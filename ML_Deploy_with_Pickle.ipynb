{
  "nbformat": 4,
  "nbformat_minor": 0,
  "metadata": {
    "colab": {
      "name": "ML-Deploy-with-Pickle.ipynb",
      "provenance": [],
      "private_outputs": true,
      "collapsed_sections": [],
      "authorship_tag": "ABX9TyOgoeU4qiIsapVFRztKH8WU",
      "include_colab_link": true
    },
    "kernelspec": {
      "name": "python3",
      "display_name": "Python 3"
    }
  },
  "cells": [
    {
      "cell_type": "markdown",
      "metadata": {
        "id": "view-in-github",
        "colab_type": "text"
      },
      "source": [
        "<a href=\"https://colab.research.google.com/github/yeokh/demo/blob/master/ML_Deploy_with_Pickle.ipynb\" target=\"_parent\"><img src=\"https://colab.research.google.com/assets/colab-badge.svg\" alt=\"Open In Colab\"/></a>"
      ]
    },
    {
      "cell_type": "code",
      "metadata": {
        "id": "jOMcdbavkd4X",
        "colab_type": "code",
        "colab": {}
      },
      "source": [
        "# Upload saved model for use\n",
        "#\n",
        "from google.colab import files\n",
        "uploaded_model = files.upload()"
      ],
      "execution_count": null,
      "outputs": []
    },
    {
      "cell_type": "code",
      "metadata": {
        "id": "fDewlup0kn3j",
        "colab_type": "code",
        "colab": {}
      },
      "source": [
        "!ls -lah"
      ],
      "execution_count": null,
      "outputs": []
    },
    {
      "cell_type": "code",
      "metadata": {
        "id": "rHkVjKhknGwH",
        "colab_type": "code",
        "colab": {}
      },
      "source": [
        "import pickle\n",
        "import numpy as np\n",
        "#\n",
        "# from sklearn.linear_model import LinearRegression\n",
        "\n",
        "#\n",
        "# with pickle, we are saving/restoring the instance of the model, including the python objects instance.\n",
        "# we do not need to declare/import any of the libary used in the model.\n",
        "#\n",
        "\n",
        "# Load from file\n",
        "pkl_filename = \"model.pkl\"\n",
        "with open(pkl_filename, 'rb') as file:\n",
        "    pickle_model = pickle.load(file)"
      ],
      "execution_count": null,
      "outputs": []
    },
    {
      "cell_type": "code",
      "metadata": {
        "colab_type": "code",
        "id": "O3XQqIeQnl-t",
        "colab": {}
      },
      "source": [
        "# use the model to predict the result.\n",
        "#\n",
        "x = 15\n",
        "wt = 3\n",
        "bias = 10\n",
        "\n",
        "# format the input value and call the model prediction function\n",
        "xs = np.array([x], dtype=float).reshape((-1, 1))\n",
        "print(\"Input=\", x, \" Expected=\",wt*x+bias, \"  Predicted\", pickle_model.predict(xs))"
      ],
      "execution_count": null,
      "outputs": []
    }
  ]
}